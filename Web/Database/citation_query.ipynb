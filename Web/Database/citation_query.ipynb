{
 "cells": [
  {
   "metadata": {
    "ExecuteTime": {
     "end_time": "2025-03-12T03:19:52.486066Z",
     "start_time": "2025-03-12T03:19:51.675017Z"
    }
   },
   "cell_type": "code",
   "source": [
    "import requests\n",
    "import json\n",
    "\n",
    "def get_semantic_scholar_citations(doi):\n",
    "    # Semantic Scholar API \n",
    "    url = f\"https://api.semanticscholar.org/v1/paper/{doi}\"\n",
    "    response = requests.get(url)\n",
    "\n",
    "    if response.status_code == 200:\n",
    "        data = response.json()\n",
    "        \n",
    "        citation_count = data.get(\"numCitedBy\", 0)\n",
    "        journal = data.get(\"venue\", 'NaN')\n",
    "        title = data.get(\"title\", 'NaN')\n",
    "        year = data.get(\"year\", 'NaN')\n",
    "        fieldsOfStudy = data.get(\"fieldsOfStudy\", [])\n",
    "        # Show full json structure\n",
    "        #print(json.dumps(data, indent=4, ensure_ascii=False))\n",
    "        return citation_count,journal,title,year,fieldsOfStudy\n",
    "    else:\n",
    "        print(f\"Failed,Status: {response.status_code}\")\n",
    "\n",
    "\n",
    "# Input DOI\n",
    "doi = \"10.1016/j.yexmp.2017.02.012\"\n",
    "citation_count,journal,title,year,fieldsOfStudy = get_semantic_scholar_citations(doi)\n",
    "\n",
    "# Print \n",
    "print(f\"Citation_Count: {citation_count}\")\n",
    "print(f\"Journal: {journal}\")\n",
    "print(f\"Title: {title}\")\n",
    "print(f\"Year: {year}\")\n",
    "print(f\"Fields: {fieldsOfStudy}\")\n",
    "\n"
   ],
   "id": "38fb0a69ef0dcd09",
   "outputs": [
    {
     "name": "stdout",
     "output_type": "stream",
     "text": [
      "Citation_Count: 39\n",
      "Journal: Experimental and molecular pathology (Print)\n",
      "Title: Tenascin C is a prognostic determinant and potential cancer-associated fibroblasts marker for breast ductal carcinoma.\n",
      "Year: 2017\n",
      "Fields: ['Medicine']\n"
     ]
    }
   ],
   "execution_count": 10
  },
  {
   "metadata": {},
   "cell_type": "code",
   "outputs": [],
   "execution_count": null,
   "source": "",
   "id": "327bdb2a2b686a3e"
  }
 ],
 "metadata": {
  "kernelspec": {
   "display_name": "Python 3",
   "language": "python",
   "name": "python3"
  },
  "language_info": {
   "codemirror_mode": {
    "name": "ipython",
    "version": 2
   },
   "file_extension": ".py",
   "mimetype": "text/x-python",
   "name": "python",
   "nbconvert_exporter": "python",
   "pygments_lexer": "ipython2",
   "version": "2.7.6"
  }
 },
 "nbformat": 4,
 "nbformat_minor": 5
}
