{
 "cells": [
  {
   "metadata": {
    "ExecuteTime": {
     "end_time": "2025-03-09T00:03:50.115853Z",
     "start_time": "2025-03-09T00:03:49.635907Z"
    }
   },
   "cell_type": "code",
   "source": [
    "import os\n",
    "import sqlite3\n",
    "import pandas as pd\n",
    "\n",
    "\n",
    "script_dir = os.getcwd()  # 获取当前脚本的绝对路径\n",
    "db_path = os.path.join(script_dir, \"data.db\")\n",
    "file_path = os.path.join(script_dir, \"data.xlsx\" )\n",
    "# 确保目标目录存在\n",
    "base_dir = os.path.dirname(db_path)  # 提取数据库路径的目录\n",
    "if not os.path.exists(base_dir):\n",
    "    os.makedirs(base_dir)\n",
    "\n",
    "# 加载 Excel 文件\n",
    "file_path = file_path\n",
    "xls = pd.ExcelFile(file_path)\n",
    "\n",
    "# 连接到 SQLite 数据库（如果不存在则创建）\n",
    "db_path = db_path\n",
    "conn = sqlite3.connect(db_path)\n",
    "\n",
    "# 将 Sheet1 数据存入数据库\n",
    "df_sheet1 = xls.parse(\"Sheet1\")\n",
    "df_sheet1.to_sql(\"database_info\", conn, if_exists=\"replace\", index=False)\n",
    "\n",
    "# 关闭数据库连接\n",
    "conn.close()\n",
    "\n",
    "# 返回 SQLite 数据库文件路径\n",
    "db_path\n"
   ],
   "id": "5c0ea62301e91334",
   "outputs": [
    {
     "data": {
      "text/plain": [
       "'D:\\\\File\\\\DbCAS\\\\Web\\\\Database\\\\data.db'"
      ]
     },
     "execution_count": 1,
     "metadata": {},
     "output_type": "execute_result"
    }
   ],
   "execution_count": 1
  },
  {
   "metadata": {
    "ExecuteTime": {
     "end_time": "2025-04-02T09:35:21.651217Z",
     "start_time": "2025-04-02T09:35:21.241334Z"
    }
   },
   "cell_type": "code",
   "source": [
    "import sqlite3\n",
    "import pandas as pd\n",
    "\n",
    "# 连接到 SQLite 数据库\n",
    "conn = sqlite3.connect(\"data.db\")\n",
    "\n",
    "# 列出所有表名\n",
    "tables = pd.read_sql_query(\"SELECT name FROM sqlite_master WHERE type='table';\", conn)\n",
    "print(\"数据库中的表：\")\n",
    "print(tables)\n",
    "\n",
    "# 查询某张表的内容\n",
    "query = \"SELECT * FROM database_info\"\n",
    "df = pd.read_sql_query(query, conn)\n",
    "# 打印列名\n",
    "print(\"表 'database_info' 的列名：\")\n",
    "print(df.columns)\n",
    "\n",
    "print(\"数据库中的数据：\")\n",
    "print(df)\n",
    "\n",
    "# 关闭数据库连接\n",
    "conn.close()\n",
    "\n"
   ],
   "id": "390e9e3a5605d912",
   "outputs": [
    {
     "name": "stdout",
     "output_type": "stream",
     "text": [
      "数据库中的表：\n",
      "            name\n",
      "0  database_info\n",
      "表 'database_info' 的列名：\n",
      "Index(['Name', 'Public_Date', 'Data Type', 'Data Format', 'Data Volume',\n",
      "       'Species', 'Tissues', 'Diseases', 'Source', 'DOI', 'Url', 'Citation',\n",
      "       'Description'],\n",
      "      dtype='object')\n",
      "数据库中的数据：\n",
      "                      Name  Public_Date  \\\n",
      "0             NCBI GenBank         1982   \n",
      "1                  ENSEMBL         1999   \n",
      "2              GTEx Portal         2013   \n",
      "3                  UniProt         2002   \n",
      "4  PDB (Protein Data Bank)         1971   \n",
      "5                   STRING         2000   \n",
      "6                   MEROPS         1996   \n",
      "7                     KEGG         1995   \n",
      "8       Gene Ontology (GO)         1998   \n",
      "\n",
      "                                           Data Type  \\\n",
      "0                              Nucleotide sequences​   \n",
      "1                                       Genomic data   \n",
      "2                                             RNAseq   \n",
      "3        Protein sequence and functional information   \n",
      "4                                 3D structural data   \n",
      "5                   Protein-protein interaction data   \n",
      "6                           peptidases to inhibitors   \n",
      "7  iochemical pathways, genomes, chemical compoun...   \n",
      "8                Gene,protein functional annotations   \n",
      "\n",
      "                              Data Format   Data Volume       Species  \\\n",
      "0                         FASTA, GTF, VCF  4.700000e+10            NS   \n",
      "1             FASTA, GTF, VCF, EMBL, JSON           NaN            NS   \n",
      "2                           TXT, GCT, VCF  1.738200e+04  Homo sapiens   \n",
      "3  FASTA, UniProtKB flat file format, XML  5.659290e+08            NS   \n",
      "4                              PDB, mmCIF  2.000000e+05            NS   \n",
      "5                         TSV, XML, JSON​  2.400000e+07            NS   \n",
      "6                              FASTA, TSV  1.000000e+03            NS   \n",
      "7                     GML, XML, JSON, TXT           NaN            NS   \n",
      "8                OBO format, RDF/XML, OWL  4.700000e+04            NS   \n",
      "\n",
      "                     Tissues Diseases          Source                   DOI  \\\n",
      "0                         NS       NS             lab  10.1093/nar/gkaa1023   \n",
      "1                         NS       NS             lab  10.1093/nar/gkad1106   \n",
      "2  54 different tissue types       NS             lab   10.1038/nature24277   \n",
      "3                         NS       NS             lab  10.1093/nar/gkaa1100   \n",
      "4                         NS       NS  lab,prediction  10.1093/nar/gkaa1038   \n",
      "5                         NS       NS  lab,prediction  10.1093/nar/gkaa1074   \n",
      "6                         NS       NS             lab  10.1093/nar/gkaa1027   \n",
      "7                         NS       NS             lab   10.1093/nar/gkaa970   \n",
      "8                         NS       NS  lab,prediction  10.1093/nar/gkaa1113   \n",
      "\n",
      "                                     Url  Citation  \\\n",
      "0  https://www.ncbi.nlm.nih.gov/genbank/        41   \n",
      "1               https://www.ensembl.org/         4   \n",
      "2       https://www.gtexportal.org/home/      3361   \n",
      "3               https://www.uniprot.org/      4975   \n",
      "4                  https://www.rcsb.org/      1043   \n",
      "5                 https://string-db.org/      5043   \n",
      "6          https://www.ebi.ac.uk/merops/       290   \n",
      "7                   https://www.kegg.jp/      2414   \n",
      "8               http://geneontology.org/      2474   \n",
      "\n",
      "                                         Description  \n",
      "0  A comprehensive, publicly accessible database ...  \n",
      "1  A genome database providing extensive genomic ...  \n",
      "2  A resource offering gene expression data from ...  \n",
      "3  A high-quality, freely accessible database pro...  \n",
      "4  A global archive storing three-dimensional str...  \n",
      "5  A database integrating protein-protein interac...  \n",
      "6  A specialized database cataloging peptidases (...  \n",
      "7  A resource for understanding high-level biolog...  \n",
      "8  A structured, standardized vocabulary database...  \n"
     ]
    }
   ],
   "execution_count": 1
  }
 ],
 "metadata": {
  "kernelspec": {
   "display_name": "Python 3",
   "language": "python",
   "name": "python3"
  },
  "language_info": {
   "codemirror_mode": {
    "name": "ipython",
    "version": 2
   },
   "file_extension": ".py",
   "mimetype": "text/x-python",
   "name": "python",
   "nbconvert_exporter": "python",
   "pygments_lexer": "ipython2",
   "version": "2.7.6"
  }
 },
 "nbformat": 4,
 "nbformat_minor": 5
}
