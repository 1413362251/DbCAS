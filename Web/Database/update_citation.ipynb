{
 "cells": [
  {
   "cell_type": "code",
   "id": "initial_id",
   "metadata": {
    "collapsed": true,
    "ExecuteTime": {
     "end_time": "2025-03-09T00:00:39.252246Z",
     "start_time": "2025-03-09T00:00:39.231499Z"
    }
   },
   "source": [
    "import pandas as pd\n",
    "import os\n",
    "\n",
    "file_path = os.path.join(os.getcwd(), 'data.xlsx')\n",
    "df = pd.read_excel(file_path)\n",
    "print(df.columns.tolist())"
   ],
   "outputs": [
    {
     "name": "stdout",
     "output_type": "stream",
     "text": [
      "['Name', 'Public_Date', 'Data Type', 'Data Format', 'Data Volume', 'Species', 'Tissues', 'Diseases', 'Source', 'DOI', 'Url', 'Citation', 'Description']\n"
     ]
    }
   ],
   "execution_count": 7
  },
  {
   "metadata": {
    "ExecuteTime": {
     "end_time": "2025-03-09T00:01:05.949401Z",
     "start_time": "2025-03-09T00:00:39.374822Z"
    }
   },
   "cell_type": "code",
   "source": [
    "import requests\n",
    "import numpy as np\n",
    "def get_semantic_scholar_citations(doi):\n",
    "    # Semantic Scholar API \n",
    "    url = f\"https://api.semanticscholar.org/v1/paper/{doi}\"\n",
    "    response = requests.get(url)\n",
    "    if response.status_code == 200:\n",
    "        data = response.json()\n",
    "        citation_count = data.get(\"numCitedBy\", 0)\n",
    "        # Show full json structure\n",
    "        #print(json.dumps(data, indent=4, ensure_ascii=False))\n",
    "        return citation_count\n",
    "    else:\n",
    "        print(f\"Failed,Status: {response.status_code}\")\n",
    "\n",
    "df['Citation'] = np.nan\n",
    "for index, doi in df['DOI'].items():\n",
    "    try:\n",
    "        # 调用函数获取 Citation 值\n",
    "        citation = get_semantic_scholar_citations(doi)\n",
    "        # 更新 Citation 列\n",
    "        df.at[index, 'Citation'] = citation\n",
    "    except Exception as e:\n",
    "        # 如果发生异常，则更新 Citation 为 NaN\n",
    "        df.at[index, 'Citation'] = np.nan\n",
    "print(df)"
   ],
   "id": "b84861099bb54485",
   "outputs": [
    {
     "name": "stdout",
     "output_type": "stream",
     "text": [
      "                      Name  Public_Date  \\\n",
      "0             NCBI GenBank         1982   \n",
      "1                  ENSEMBL         1999   \n",
      "2              GTEx Portal         2013   \n",
      "3                  UniProt         2002   \n",
      "4  PDB (Protein Data Bank)         1971   \n",
      "5                   STRING         2000   \n",
      "6                   MEROPS         1996   \n",
      "7                     KEGG         1995   \n",
      "8       Gene Ontology (GO)         1998   \n",
      "\n",
      "                                           Data Type  \\\n",
      "0                              Nucleotide sequences​   \n",
      "1                                       Genomic data   \n",
      "2                                             RNAseq   \n",
      "3        Protein sequence and functional information   \n",
      "4                                 3D structural data   \n",
      "5                   Protein-protein interaction data   \n",
      "6                           peptidases to inhibitors   \n",
      "7  iochemical pathways, genomes, chemical compoun...   \n",
      "8                Gene,protein functional annotations   \n",
      "\n",
      "                              Data Format   Data Volume       Species  \\\n",
      "0                         FASTA, GTF, VCF  4.700000e+10            NS   \n",
      "1             FASTA, GTF, VCF, EMBL, JSON           NaN            NS   \n",
      "2                           TXT, GCT, VCF  1.738200e+04  Homo sapiens   \n",
      "3  FASTA, UniProtKB flat file format, XML  5.659290e+08            NS   \n",
      "4                              PDB, mmCIF  2.000000e+05            NS   \n",
      "5                         TSV, XML, JSON​  2.400000e+07            NS   \n",
      "6                              FASTA, TSV  1.000000e+03            NS   \n",
      "7                     GML, XML, JSON, TXT           NaN            NS   \n",
      "8                OBO format, RDF/XML, OWL  4.700000e+04            NS   \n",
      "\n",
      "                     Tissues Diseases          Source                   DOI  \\\n",
      "0                         NS       NS             lab  10.1093/nar/gkaa1023   \n",
      "1                         NS       NS             lab  10.1093/nar/gkad1106   \n",
      "2  54 different tissue types       NS             lab   10.1038/nature24277   \n",
      "3                         NS       NS             lab  10.1093/nar/gkaa1100   \n",
      "4                         NS       NS  lab,prediction  10.1093/nar/gkaa1038   \n",
      "5                         NS       NS  lab,prediction  10.1093/nar/gkaa1074   \n",
      "6                         NS       NS             lab  10.1093/nar/gkaa1027   \n",
      "7                         NS       NS             lab   10.1093/nar/gkaa970   \n",
      "8                         NS       NS  lab,prediction  10.1093/nar/gkaa1113   \n",
      "\n",
      "                                     Url  Citation  \\\n",
      "0  https://www.ncbi.nlm.nih.gov/genbank/      41.0   \n",
      "1               https://www.ensembl.org/       4.0   \n",
      "2       https://www.gtexportal.org/home/    3361.0   \n",
      "3               https://www.uniprot.org/    4975.0   \n",
      "4                  https://www.rcsb.org/    1043.0   \n",
      "5                 https://string-db.org/    5043.0   \n",
      "6          https://www.ebi.ac.uk/merops/     290.0   \n",
      "7                   https://www.kegg.jp/    2414.0   \n",
      "8               http://geneontology.org/    2474.0   \n",
      "\n",
      "                                         Description  \n",
      "0  A comprehensive, publicly accessible database ...  \n",
      "1  A genome database providing extensive genomic ...  \n",
      "2  A resource offering gene expression data from ...  \n",
      "3  A high-quality, freely accessible database pro...  \n",
      "4  A global archive storing three-dimensional str...  \n",
      "5  A database integrating protein-protein interac...  \n",
      "6  A specialized database cataloging peptidases (...  \n",
      "7  A resource for understanding high-level biolog...  \n",
      "8  A structured, standardized vocabulary database...  \n"
     ]
    }
   ],
   "execution_count": 8
  },
  {
   "metadata": {
    "ExecuteTime": {
     "end_time": "2025-03-09T00:02:45.332871Z",
     "start_time": "2025-03-09T00:02:45.304175Z"
    }
   },
   "cell_type": "code",
   "source": "df.to_excel(file_path, index=False)",
   "id": "e5f51f7b0f5e8e40",
   "outputs": [],
   "execution_count": 9
  }
 ],
 "metadata": {
  "kernelspec": {
   "display_name": "Python 3",
   "language": "python",
   "name": "python3"
  },
  "language_info": {
   "codemirror_mode": {
    "name": "ipython",
    "version": 2
   },
   "file_extension": ".py",
   "mimetype": "text/x-python",
   "name": "python",
   "nbconvert_exporter": "python",
   "pygments_lexer": "ipython2",
   "version": "2.7.6"
  }
 },
 "nbformat": 4,
 "nbformat_minor": 5
}
